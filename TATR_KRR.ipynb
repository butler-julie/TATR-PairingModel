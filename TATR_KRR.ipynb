{
 "cells": [
  {
   "cell_type": "markdown",
   "metadata": {},
   "source": [
    "# Abbey's Summer Data Collection Phase 1\n",
    "\n",
    "Helpful Literature:\n",
    "1. LNP936\n",
    "2. https://pubs.acs.org/doi/pdf/10.1021/acs.jpca.8b04455\n",
    "3. https://pubs.acs.org/doi/suppl/10.1021/acs.jpca.8b04455/suppl_file/jp8b04455_si_001.pdf\n",
    "4. https://arxiv.org/pdf/1310.6059.pdf\n"
   ]
  },
  {
   "cell_type": "code",
   "execution_count": 1,
   "metadata": {},
   "outputs": [
    {
     "name": "stdout",
     "output_type": "stream",
     "text": [
      "CPU times: user 1.63 s, sys: 376 ms, total: 2 s\n",
      "Wall time: 2.34 s\n"
     ]
    }
   ],
   "source": [
    "%%time\n",
    "\n",
    "# Third Party Imports\n",
    "from sympy import *\n",
    "from pylab import *\n",
    "import matplotlib.pyplot as plt\n",
    "import math\n",
    "\n",
    "# Local Imports\n",
    "from Regression import *"
   ]
  },
  {
   "cell_type": "code",
   "execution_count": 2,
   "metadata": {},
   "outputs": [
    {
     "name": "stdout",
     "output_type": "stream",
     "text": [
      "CPU times: user 5 µs, sys: 1 µs, total: 6 µs\n",
      "Wall time: 9.3 µs\n"
     ]
    }
   ],
   "source": [
    "%%time\n",
    "\n",
    "# This function makes a pairing model basis of a given size with the\n",
    "# same number of particles and holes.  The argument size must be an \n",
    "# even number with half of size also being even (i.e. 4, 8, 12, ...)\n",
    "def make_general_basis (size):\n",
    "    # There needs to be an even number of states\n",
    "    assert size%2 == 0\n",
    "    half = int(size/2)\n",
    "    # There needs to be an even number of particles/holes\n",
    "    assert half%2 == 0\n",
    "    \n",
    "    below_fermi = np.arange(half)\n",
    "    print(below_fermi)\n",
    "    below_fermi = tuple(below_fermi)\n",
    "    \n",
    "    above_fermi = np.arange(half, size)\n",
    "    above_fermi = tuple(above_fermi)\n",
    "    \n",
    "    states = []\n",
    "    for i in range (1, half+1):\n",
    "        states.append((i, 1))\n",
    "        states.append((i, -1))\n",
    "        \n",
    "    return below_fermi, above_fermi, states\n"
   ]
  },
  {
   "cell_type": "code",
   "execution_count": 3,
   "metadata": {},
   "outputs": [
    {
     "name": "stdout",
     "output_type": "stream",
     "text": [
      "[0 1 2 3]\n"
     ]
    },
    {
     "data": {
      "image/png": "[encoded data removed]",
      "text/plain": [
       "<Figure size 432x288 with 1 Axes>"
      ]
     },
     "metadata": {
      "needs_background": "light"
     },
     "output_type": "display_data"
    },
    {
     "name": "stdout",
     "output_type": "stream",
     "text": [
      "CPU times: user 1.31 s, sys: 74.1 ms, total: 1.39 s\n",
      "Wall time: 1.43 s\n"
     ]
    }
   ],
   "source": [
    "%%time\n",
    "\n",
    "# This is the LNP936 MBPT code with only a few changes.  Note that I did\n",
    "# change the number of points generated from 20 to 50 to provide more data\n",
    "\n",
    "# Make the basis (definite the single particle states below the fermi\n",
    "# level, above the fermi level, and the labels for all the states)\n",
    "below_fermi, above_fermi, states = make_general_basis(8)\n",
    "\n",
    "# Define the symbol g, the interaction strength of the pairing model\n",
    "g = Symbol('g')\n",
    "\n",
    "\n",
    "def h0(p,q):\n",
    "    if p == q:\n",
    "        p1, s1 = states[p]\n",
    "        return (p1 - 1)\n",
    "    else:\n",
    "        return 0\n",
    "\n",
    "def f(p,q):\n",
    "    if p == q:\n",
    "        return 0\n",
    "    s = h0(p,q)\n",
    "    for i in below_fermi:\n",
    "        s += assym(p,i,q,i)\n",
    "        return s\n",
    "\n",
    "\n",
    "def assym(p,q,r,s):\n",
    "    p1, s1 = states[p]\n",
    "    p2, s2 = states[q]\n",
    "    p3, s3 = states[r]\n",
    "    p4, s4 = states[s]\n",
    "\n",
    "    if p1 != p2 or p3 != p4:\n",
    "        return 0\n",
    "    if s1 == s2 or s3 == s4:\n",
    "        return 0\n",
    "    if s1 == s3 and s2 == s4:\n",
    "        return -g/2.\n",
    "    if s1 == s4 and s2 == s3:\n",
    "        return g/2.\n",
    "\n",
    "def eps(holes, particles):\n",
    "    E = 0\n",
    "    for h in holes:\n",
    "        p, s = states[h]\n",
    "        E += (p-1)\n",
    "    for p in particles:\n",
    "        p, s = states[p]\n",
    "        E -= (p-1)\n",
    "    return E\n",
    "\n",
    "temp_amps = []\n",
    "# Diagram 1\n",
    "# MBPT2 Diagram\n",
    "s1 = 0\n",
    "for a in above_fermi:\n",
    "    for b in above_fermi:\n",
    "        for i in below_fermi:\n",
    "            for j in below_fermi:\n",
    "                s1 += 0.25*assym(a,b,i,j)*assym(i,j,a,b)/eps((i,j),(a,b))\n",
    "                # For each iteration append the amplitude to the list temp_amps\n",
    "                temp_amps.append(assym(a,b,i,j)*assym(i, j, a, b)/eps((i,j),(a,b)))\n",
    "\n",
    "# Diagram 3\n",
    "s3 = 0\n",
    "for a in above_fermi:\n",
    "   for b in above_fermi:\n",
    "       for c in above_fermi:\n",
    "           for i in below_fermi:\n",
    "               for j in below_fermi:\n",
    "                   for k in below_fermi:\n",
    "                       s3 += assym(i,j,a,b)*assym(a,c,j,k)*assym(b,k,c,i)/eps((i,j),(a,b))/eps((k,j),(a,c))\n",
    "\n",
    "# Diagram 4\n",
    "s4 = 0\n",
    "for a in above_fermi:\n",
    "    for b in above_fermi:\n",
    "        for c in above_fermi:\n",
    "            for d in above_fermi:\n",
    "                for i in below_fermi:\n",
    "                    for j in below_fermi:\n",
    "                        s4 += 0.125*assym(i,j,a,b)*assym(a,b,c,d)*assym(c,d,i,j)/eps((i,j),(a,b))/eps((i,j),(c,d))\n",
    "\n",
    "# Diagram 5\n",
    "s5 = 0\n",
    "for a in above_fermi:\n",
    "    for b in above_fermi:\n",
    "        for i in below_fermi:\n",
    "            for j in below_fermi:\n",
    "                for k in below_fermi:\n",
    "                    for l in below_fermi:\n",
    "                        s5 += 0.125*assym(i,j,a,b)*assym(k,l,i,j)*assym(a,b,k,l)/eps((i,j),(a,b))/eps((k,l),(a,b))\n",
    "\n",
    "# Diagram 8 \n",
    "s8 = 0\n",
    "for a in above_fermi:\n",
    "    for b in above_fermi:\n",
    "        for i in below_fermi:\n",
    "            for j in below_fermi:\n",
    "                for k in below_fermi:\n",
    "                    s8 -= 0.5*assym(i,j,a,b)*assym(a,b,i,k)*f(k,j)/eps((i,j),(a,b))/eps((i,k),(a,b))\n",
    "\n",
    "# Diagram 9 \n",
    "s9 = 0\n",
    "for a in above_fermi:\n",
    "    for b in above_fermi:\n",
    "        for c in above_fermi:\n",
    "            for i in below_fermi:\n",
    "                for j in below_fermi:\n",
    "                    s9 += 0.5*assym(i,j,a,b)*assym(a,c,i,j)*f(b,c)/eps((i,j),(a,b))/eps((i,j),(a,c))\n",
    "\n",
    "ga = linspace(-1,1,50)\n",
    "e1 = []\n",
    "corr2 = []\n",
    "corr3 = []\n",
    "amps = []\n",
    "\n",
    "for g_val in ga:\n",
    "    H1 = matrix([[2-g_val , -g_val/2.,  -g_val/2., -g_val/2., -g_val/2.,     0],\n",
    "                         [-g_val/2.,   4-g_val,  -g_val/2., -g_val/2.,    0., -g_val/2.],\n",
    "                         [-g_val/2., -g_val/2.,    6-g_val,     0, -g_val/2., -g_val/2.],\n",
    "                 [-g_val/2., -g_val/2.,      0,   6-g_val, -g_val/2., -g_val/2.],\n",
    "                 [-g_val/2.,     0,  -g_val/2., -g_val/2.,   8-g_val, -g_val/2.],\n",
    "                 [0    , -g_val/2.,  -g_val/2., -g_val/2., -g_val/2.,  10-g_val]])\n",
    "\n",
    "    u1, v1 = linalg.eig(H1)\n",
    "    e1.append(min(u1))\n",
    "    corr2.append((s1).subs(g,g_val))\n",
    "    corr3.append((s1+s3+s4+s5).subs(g,g_val))\n",
    "    # Have to have an extra step here because the subs function does not\n",
    "    # like zeros\n",
    "    temp = []\n",
    "    for i in temp_amps:\n",
    "        if i == 0:\n",
    "            temp.append(i)\n",
    "        else:\n",
    "            temp.append(i.subs(g, g_val))\n",
    "    amps.append(temp)\n",
    "\n",
    "exact = e1 - (2-ga)\n",
    "\n",
    "plt.axis([-1,1,-0.5,0.05])\n",
    "plt.xlabel(r'Interaction strength, $g$', fontsize=16)\n",
    "plt.ylabel(r'Correlation energy', fontsize=16)\n",
    "plt.plot(ga, exact,'b-*',linewidth = 2.0, label = 'Exact')\n",
    "plt.plot(ga, corr2,'r:.', linewidth = 2.0, label = 'MBPT2')\n",
    "plt.plot(ga, corr3, 'm:v',linewidth = 2.0, label = 'MBPT3')\n",
    "plt.legend()\n",
    "plt.savefig('perturbationtheory.pdf', format='pdf')\n",
    "plt.show()\n",
    "\n",
    "\n",
    "    "
   ]
  },
  {
   "cell_type": "code",
   "execution_count": 4,
   "metadata": {},
   "outputs": [
    {
     "name": "stdout",
     "output_type": "stream",
     "text": [
      "CPU times: user 5 µs, sys: 1 µs, total: 6 µs\n",
      "Wall time: 9.06 µs\n"
     ]
    }
   ],
   "source": [
    "%%time\n",
    "\n",
    "# This function just makes a very standard gaussian data set centered\n",
    "# at mu and with a standard deviation of sigma.\n",
    "def gaussian (x, mu, sigma):\n",
    "    piece1 = (x-mu)**2\n",
    "    piece2 = 2*sigma**2\n",
    "    return math.exp(-piece1/piece2)"
   ]
  },
  {
   "cell_type": "code",
   "execution_count": 5,
   "metadata": {},
   "outputs": [
    {
     "name": "stdout",
     "output_type": "stream",
     "text": [
      "CPU times: user 5 µs, sys: 0 ns, total: 5 µs\n",
      "Wall time: 11 µs\n"
     ]
    }
   ],
   "source": [
    "%%time\n",
    "\n",
    "# This function corresponds to the function f in this paper:\n",
    "# https://pubs.acs.org/doi/10.1021/acs.jpca.8b04455 (Eq. 5)\n",
    "def f (dx, t, sigma):\n",
    "    x = np.arange(-1, 1+dx, dx)\n",
    "    v = []\n",
    "    for i in x:\n",
    "        v.append(gaussian(i, t, sigma))\n",
    "    return np.asarray(v)"
   ]
  },
  {
   "cell_type": "code",
   "execution_count": 6,
   "metadata": {},
   "outputs": [
    {
     "name": "stdout",
     "output_type": "stream",
     "text": [
      "CPU times: user 4 µs, sys: 1 µs, total: 5 µs\n",
      "Wall time: 7.87 µs\n"
     ]
    }
   ],
   "source": [
    "%%time\n",
    "\n",
    "# This function is Eq. 5 from the paper referenced above\n",
    "def TATR (dx, amps, sigma):\n",
    "    tatr = np.zeros(len(np.arange(-1, 1+dx, dx)))\n",
    "    for amp in amps:\n",
    "        tatr += f(dx, amp, sigma)\n",
    "    return tatr"
   ]
  },
  {
   "cell_type": "code",
   "execution_count": 7,
   "metadata": {},
   "outputs": [
    {
     "name": "stdout",
     "output_type": "stream",
     "text": [
      "CPU times: user 6 µs, sys: 1 µs, total: 7 µs\n",
      "Wall time: 8.11 µs\n"
     ]
    }
   ],
   "source": [
    "%%time\n",
    "\n",
    "# A basic root mean squared function for error analysis\n",
    "def rmse(predictions, targets):\n",
    "    return math.sqrt(np.mean((predictions-targets)**2))"
   ]
  },
  {
   "cell_type": "code",
   "execution_count": 8,
   "metadata": {},
   "outputs": [
    {
     "name": "stdout",
     "output_type": "stream",
     "text": [
      "CPU times: user 26 s, sys: 365 ms, total: 26.4 s\n",
      "Wall time: 28.1 s\n"
     ]
    }
   ],
   "source": [
    "%%time\n",
    "\n",
    "# Define the sigma value of the Gaussian function f and then create\n",
    "# the TATRs\n",
    "sigmaT = 0.001\n",
    "TATRs = []\n",
    "dx = 0.01\n",
    "X = 0\n",
    "for amp in amps:\n",
    "    TATRs.append(TATR(dx, amp, sigmaT))\n",
    "Xdata = TATRs"
   ]
  },
  {
   "cell_type": "code",
   "execution_count": 9,
   "metadata": {},
   "outputs": [
    {
     "name": "stdout",
     "output_type": "stream",
     "text": [
      "\n",
      "Starting Kernel Ridge Regression\n",
      "\n",
      "\n",
      "Setting kernel function to Gaussian.\n",
      "\n",
      "CPU times: user 258 µs, sys: 116 µs, total: 374 µs\n",
      "Wall time: 326 µs\n"
     ]
    }
   ],
   "source": [
    "%%time\n",
    "\n",
    "# Define the value of sigma to be used by the KRR algorithm and initialize\n",
    "# the algorithm\n",
    "sigma = 0.001\n",
    "params1 = [sigma]\n",
    "krr = KRR(params1, 'gaussian', alpha = 0.01)"
   ]
  },
  {
   "cell_type": "code",
   "execution_count": 10,
   "metadata": {},
   "outputs": [
    {
     "name": "stdout",
     "output_type": "stream",
     "text": [
      "CPU times: user 9 µs, sys: 1 µs, total: 10 µs\n",
      "Wall time: 13.8 µs\n"
     ]
    }
   ],
   "source": [
    "%%time\n",
    "\n",
    "# This code cell splits the data into training and test sets so\n",
    "# that the test set will always come after the training set.\n",
    "# This makes this into a extrapolation problem.\n",
    "\n",
    "# Define the dividing point dim.  Points with an index less than dim will\n",
    "# be the training set and points with an index greater than or equal to dim\n",
    "# will be the test set\n",
    "dim = 40\n",
    "X_train = Xdata[:dim] \n",
    "X_test = Xdata[dim:] \n",
    "y_train = corr2[:dim] \n",
    "y_test = corr2[dim:]\n",
    "\n"
   ]
  },
  {
   "cell_type": "code",
   "execution_count": 11,
   "metadata": {},
   "outputs": [
    {
     "name": "stdout",
     "output_type": "stream",
     "text": [
      "CPU times: user 252 ms, sys: 23.4 ms, total: 276 ms\n",
      "Wall time: 161 ms\n"
     ]
    }
   ],
   "source": [
    "%%time\n",
    "\n",
    "# Fit the KRR model\n",
    "krr.fit(X_train,y_train)\n",
    "\n"
   ]
  },
  {
   "cell_type": "code",
   "execution_count": 12,
   "metadata": {},
   "outputs": [
    {
     "name": "stdout",
     "output_type": "stream",
     "text": [
      "******Test RMSE****** 0.002040677978233584\n",
      "******Test MSE****** 4.164366610847507e-06\n",
      "CPU times: user 77.4 ms, sys: 9.21 ms, total: 86.6 ms\n",
      "Wall time: 45.9 ms\n"
     ]
    }
   ],
   "source": [
    "%%time\n",
    "\n",
    "# Use the trained model to predict the test data set and report the RMSE\n",
    "ytest = krr.predict(X_test)\n",
    "print(\"******Test RMSE******\", rmse(np.asarray(ytest), np.asarray(y_test)))\n",
    "print(\"******Test MSE******\", rmse(np.asarray(ytest), np.asarray(y_test))**2)\n",
    "\n"
   ]
  },
  {
   "cell_type": "code",
   "execution_count": 13,
   "metadata": {},
   "outputs": [
    {
     "name": "stdout",
     "output_type": "stream",
     "text": [
      "CPU times: user 203 ms, sys: 13.4 ms, total: 217 ms\n",
      "Wall time: 158 ms\n"
     ]
    },
    {
     "data": {
      "text/plain": [
       "<matplotlib.legend.Legend at 0x122feadd8>"
      ]
     },
     "execution_count": 13,
     "metadata": {},
     "output_type": "execute_result"
    },
    {
     "data": {
      "image/png": "[encoded data removed]",
      "text/plain": [
       "<Figure size 432x288 with 1 Axes>"
      ]
     },
     "metadata": {
      "needs_background": "light"
     },
     "output_type": "display_data"
    }
   ],
   "source": [
    "%%time\n",
    "\n",
    "# Use the trained model to predict the whole data set and graph the results\n",
    "ytest = krr.predict(Xdata)\n",
    "plt.plot(ga, corr2, label='True Data', linewidth=3)\n",
    "plt.plot(ga, ytest, ':', label='Predicted Data', linewidth=3)\n",
    "plt.axvspan(ga[0], ga[dim], alpha=0.25, label='Training Data')\n",
    "plt.legend()"
   ]
  },
  {
   "cell_type": "markdown",
   "metadata": {},
   "source": [
    "# Your Mission\n",
    "1. Starting with the four particle four hole pairing model perform hyperparameter tuning: find the values of sigmaT, sigma, dx, and alpha that give the lowest possible Test RMSE.  I would suggest doing this with nested for loops.  This may take a while!\n",
    "2. Using the optimal parameters you found, increase the size of the pairing model (6p6h, 8p8h, ....) and see how this changes the results.  If you feel that more hyperparameter tuning is needed then do that as well.  Once you have a model working well, back off the size of the training set to as small as you can get it without the RMSE going over 0.01.  \n",
    "\n",
    "Keep very detailed notes as to what you are trying, the results of what you are trying, and **time everything**.  Everytime you generate pairing model data or train the TATR/KRR model make sure you are timing how long that cell takes to run.  One of the things we want to know is if this comes with a time savings.\n",
    "\n",
    "Once you have completed this notebook and have all of your data saved, let me know so I can send you phase 2!"
   ]
  },
  {
   "cell_type": "code",
   "execution_count": 14,
   "metadata": {},
   "outputs": [
    {
     "name": "stdout",
     "output_type": "stream",
     "text": [
      "\n",
      "Starting Kernel Ridge Regression\n",
      "\n",
      "\n",
      "Setting kernel function to Gaussian.\n",
      "\n",
      "******Test RMSE****** 0.0013677431171785087\n"
     ]
    },
    {
     "data": {
      "text/plain": [
       "<matplotlib.legend.Legend at 0x1230bff60>"
      ]
     },
     "execution_count": 14,
     "metadata": {},
     "output_type": "execute_result"
    },
    {
     "data": {
      "image/png": "[encoded data removed]",
      "text/plain": [
       "<Figure size 432x288 with 1 Axes>"
      ]
     },
     "metadata": {
      "needs_background": "light"
     },
     "output_type": "display_data"
    }
   ],
   "source": [
    "## IGNORE THIS FOR NOW\n",
    "\n",
    "# This code cell randomly splits the data into training and test sets\n",
    "\n",
    "# Define the sigma value of the Gaussian function f and then create\n",
    "# the TATRs\n",
    "sigmaT = 0.001\n",
    "TATRs = []\n",
    "dx = 0.01\n",
    "X = 0\n",
    "for amp in amps:\n",
    "    TATRs.append(TATR(dx, amp, sigmaT))\n",
    "Xdata = TATRs\n",
    "\n",
    "# Define the value of sigma to be used by the KRR algorithm and initialize\n",
    "# the algorithm\n",
    "sigma = 0.001\n",
    "params1 = [sigma]\n",
    "krr = KRR(params1, 'gaussian', alpha = 0.01)\n",
    "\n",
    "# Randomly split the data into training and testing sets\n",
    "from sklearn.model_selection import train_test_split\n",
    "X_train, X_test, y_train, y_test = train_test_split(Xdata, corr2, test_size=0.2)\n",
    "\n",
    "# Fit the KRR model\n",
    "krr.fit(X_train,y_train)\n",
    "\n",
    "# Use the trained model to predict the test data set and report the RMSE\n",
    "ytest = krr.predict(X_test)\n",
    "print(\"******Test RMSE******\", rmse(np.asarray(ytest), np.asarray(y_test)))\n",
    "\n",
    "# Use the trained model to predict the whole data set and graph the results\n",
    "ytest = krr.predict(Xdata)\n",
    "plt.plot(ga, corr2, label='True Data', linewidth=3)\n",
    "plt.plot(ga, ytest, ':', label='Predicted Data', linewidth=3)\n",
    "plt.legend()"
   ]
  }
 ],
 "metadata": {
  "kernelspec": {
   "display_name": "Python 3",
   "language": "python",
   "name": "python3"
  },
  "language_info": {
   "codemirror_mode": {
    "name": "ipython",
    "version": 3
   },
   "file_extension": ".py",
   "mimetype": "text/x-python",
   "name": "python",
   "nbconvert_exporter": "python",
   "pygments_lexer": "ipython3",
   "version": "3.7.3"
  }
 },
 "nbformat": 4,
 "nbformat_minor": 4
}
